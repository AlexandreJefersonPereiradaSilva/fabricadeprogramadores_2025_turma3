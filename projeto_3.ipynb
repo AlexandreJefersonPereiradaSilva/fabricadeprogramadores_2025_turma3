{
 "cells": [
  {
   "cell_type": "markdown",
   "id": "1ba2259c",
   "metadata": {},
   "source": [
    "# Projeto 3: Controle de Chaves 🔑 \n",
    "---\n",
    "## O Cenário 👨‍💼\n",
    "Você acabou de ser contratado por uma pequena empresa. O controle de quem está com cada chave das salas ainda é feito em um bloco de notas.\n",
    "\n",
    "Sua primeira tarefa é criar um script Python simples que resolva isso, utilizando SQLite.\n",
    "\n",
    "Seu chefe pediu o seguinte:\n",
    "\n",
    "    \"Crie um programa que guarde o nome do responsável e a sala correspondente. Por enquanto, só cadastre a Ana da 'Recepção', o Bruno do 'Financeiro' e a Carla do 'Depósito'. Depois, o programa precisa me dizer quem está com a chave do 'Depósito'.\""
   ]
  },
  {
   "cell_type": "code",
   "execution_count": null,
   "id": "578584c2",
   "metadata": {},
   "outputs": [],
   "source": [
    "import sqlite3\n",
    "\n",
    "try:\n",
    "    con = sqlite3.connect(\"meu_banco.db\")\n",
    "    cur = con.cursor()\n",
    "    cur.execute(\"DELETE FROM pessoa\")\n",
    "    #cur.execute(\"CREATE TABLE pessoa(id, nome, area)\")\n",
    "    cur.execute(\"insert into pessoa VALUES ('1', 'Ana', 'Recepção)\")\n",
    "    cur.execute(\"insert into pessoa VALUES ('2', 'Bruno', 'Financeiro)\")\n",
    "    cur.execute(\"insert into pessoa VALUES ('3', 'Carla', 'Deposito')\")\n",
    "    \n",
    "    con.comit()\n",
    "\n",
    "    cur.execute(\"SELECT * FROM pessoa\")\n",
    "    responsavel = cur.fetchone()\n",
    "\n",
    "    if responsavel:\n",
    "        print(\"Quem está com a chave do deposito: {responsavel[0]}\")\n",
    "\n",
    "    else:\n",
    "        print(\"Nenhum responsavel com a chave do deposito\")\n",
    "\n",
    "    con.comit()\n",
    "except sqlite3.Error as e:\n",
    "    print(\"error\", e)\n",
    "\n",
    "\n"
   ]
  }
 ],
 "metadata": {
  "kernelspec": {
   "display_name": "Python 3",
   "language": "python",
   "name": "python3"
  },
  "language_info": {
   "codemirror_mode": {
    "name": "ipython",
    "version": 3
   },
   "file_extension": ".py",
   "mimetype": "text/x-python",
   "name": "python",
   "nbconvert_exporter": "python",
   "pygments_lexer": "ipython3",
   "version": "3.13.2"
  }
 },
 "nbformat": 4,
 "nbformat_minor": 5
}
